{
  "cells": [
    {
      "cell_type": "markdown",
      "metadata": {},
      "source": [
        "# Título Placeholder\n",
        "\n",
        "## Preparar ambiente"
      ]
    },
    {
      "cell_type": "code",
      "execution_count": null,
      "metadata": {
        "id": "R_uWVNG3FL8m"
      },
      "outputs": [],
      "source": [
        "import numpy as np\n",
        "from scipy.optimize import minimize\n",
        "import matplotlib.pyplot as plt"
      ]
    },
    {
      "cell_type": "code",
      "execution_count": null,
      "metadata": {
        "id": "_BPkOBD7GhEi"
      },
      "outputs": [],
      "source": [
        "def funcao_objetivo(calor_input):\n",
        "  # Tempo em minutos, de acordo com seção 3.3.2. (FABRICAÇÃO DO PRODUTO)\n",
        "  t = 60\n",
        "  # Massa de água e mosto, em kg, baseado na seção 3.3.2. (FABRICAÇÃO DO PRODUTO)\n",
        "  massa_agua = 25.5\n",
        "  massa_malte = 8.5\n",
        "  # Massa do mosto em kg\n",
        "  m = massa_agua + massa_malte\n",
        "  # Constantes da equação de Antoine para a água de acordo com http://paginapessoal.utfpr.edu.br/lisandra/fisico-quimica-alimentos/anexos/C8-6_-_Pv_Antoine.pdf/view\n",
        "  ant_A = 18.3036\n",
        "  ant_B = 3816.44\n",
        "  ant_C = -46.13\n",
        "\n",
        "  temperatura = calor_input\n",
        "  isomerizacao =\n",
        "\n",
        "  # Pesos, de acordo com o objetivo (Minimizar energia e evaporação, maximizar isomerização e densidade)\n",
        "  w1, w2, w3, w4 = 1, -1, -1, 1 \n",
        "  return (w1 * energia) + (w2 * isomerizacao) + (w3 * densidade) + (w4 * evaporacao)"
      ]
    },
    {
      "cell_type": "code",
      "execution_count": null,
      "metadata": {},
      "outputs": [],
      "source": [
        "# Limites baseados nas restrições para a aplicação da Lei de Atoine de acordo com http://paginapessoal.utfpr.edu.br/lisandra/fisico-quimica-alimentos/anexos/C8-6_-_Pv_Antoine.pdf/view\n",
        "# Em Kelvin\n",
        "limites_calor = [(284, 441)]\n",
        "# 293.15 k é equivalente a 20 C°, eu achei que seria um valor inicial adequado\n",
        "calor_inicial = 293.15"
      ]
    },
    {
      "cell_type": "code",
      "execution_count": null,
      "metadata": {},
      "outputs": [],
      "source": [
        "res = minimize(funcao_objetivo, calor_inicial, bounds=limites_calor)\n",
        "print(\"Resultado da otimização:\")\n",
        "print(\"Calor aplicado:\", res.x[0])\n",
        "print(\"Valor da função objetivo:\", res.fun)"
      ]
    },
    {
      "cell_type": "code",
      "execution_count": null,
      "metadata": {},
      "outputs": [],
      "source": [
        "plt.bar(['Calor Aplicado'], [res.x[0]], color='blue')\n",
        "plt.ylabel('Valor Otimizado')\n",
        "plt.title('Resultado da Otimização do Calor Aplicado')\n",
        "plt.show()"
      ]
    }
  ],
  "metadata": {
    "colab": {
      "provenance": []
    },
    "kernelspec": {
      "display_name": "Python 3",
      "name": "python3"
    },
    "language_info": {
      "codemirror_mode": {
        "name": "ipython",
        "version": 3
      },
      "file_extension": ".py",
      "mimetype": "text/x-python",
      "name": "python",
      "nbconvert_exporter": "python",
      "pygments_lexer": "ipython3",
      "version": "3.12.1"
    }
  },
  "nbformat": 4,
  "nbformat_minor": 0
}
