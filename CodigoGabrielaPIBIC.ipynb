{
  "nbformat": 4,
  "nbformat_minor": 0,
  "metadata": {
    "colab": {
      "provenance": []
    },
    "kernelspec": {
      "name": "python3",
      "display_name": "Python 3"
    },
    "language_info": {
      "name": "python"
    }
  },
  "cells": [
    {
      "cell_type": "code",
      "execution_count": null,
      "metadata": {
        "id": "R_uWVNG3FL8m"
      },
      "outputs": [],
      "source": [
        "import numpy as np\n",
        "from scipy.optimize import minimize\n",
        "import matplotlib.pyplot as plt\n"
      ]
    },
    {
      "cell_type": "code",
      "source": [
        "def funcao_objetivo(Q_in):\n",
        "  return np.sum(Q_in)\n",
        "  # return x**2 + 3*x+ 4"
      ],
      "metadata": {
        "id": "_BPkOBD7GhEi"
      },
      "execution_count": null,
      "outputs": []
    },
    {
      "cell_type": "code",
      "source": [
        "funcao_objetivo(np.array([2.0, 3.0, 1.0]))\n",
        "# funcao_objetivo(0.2)"
      ],
      "metadata": {
        "colab": {
          "base_uri": "https://localhost:8080/"
        },
        "id": "_06vPGUuIpmZ",
        "outputId": "7b82f47d-2d41-43f3-ff54-52e0b1bf3ffe"
      },
      "execution_count": null,
      "outputs": [
        {
          "output_type": "execute_result",
          "data": {
            "text/plain": [
              "np.float64(6.0)"
            ]
          },
          "metadata": {},
          "execution_count": 15
        }
      ]
    },
    {
      "cell_type": "code",
      "source": [
        "Q_in_0 = np.array([30.0, 60.0, 100.0])\n",
        "# x0 = 2.0"
      ],
      "metadata": {
        "id": "IkM827amJIQT"
      },
      "execution_count": null,
      "outputs": []
    },
    {
      "cell_type": "code",
      "source": [
        "res = minimize(funcao_objetivo, Q_in_0, bounds=((-10,10),(-10,10),(-10,10)) )\n",
        "# res = minimize(funcao_objetivo, x0)"
      ],
      "metadata": {
        "id": "dzmOVx2JIswS"
      },
      "execution_count": null,
      "outputs": []
    },
    {
      "cell_type": "code",
      "source": [
        "res"
      ],
      "metadata": {
        "colab": {
          "base_uri": "https://localhost:8080/"
        },
        "id": "Cl6ON_wDJSC-",
        "outputId": "7371b60d-e23b-4e51-bb84-6a02f6b4e43f"
      },
      "execution_count": null,
      "outputs": [
        {
          "output_type": "execute_result",
          "data": {
            "text/plain": [
              "  message: CONVERGENCE: NORM OF PROJECTED GRADIENT <= PGTOL\n",
              "  success: True\n",
              "   status: 0\n",
              "      fun: -30.0\n",
              "        x: [-1.000e+01 -1.000e+01 -1.000e+01]\n",
              "      nit: 2\n",
              "      jac: [ 1.000e+00  1.000e+00  1.000e+00]\n",
              "     nfev: 20\n",
              "     njev: 5\n",
              " hess_inv: <3x3 LbfgsInvHessProduct with dtype=float64>"
            ]
          },
          "metadata": {},
          "execution_count": 22
        }
      ]
    },
    {
      "cell_type": "code",
      "source": [
        "res.x"
      ],
      "metadata": {
        "colab": {
          "base_uri": "https://localhost:8080/"
        },
        "id": "0j1C3MtBJUtI",
        "outputId": "dee571cb-9a4a-4c15-c19a-6f02846189fe"
      },
      "execution_count": null,
      "outputs": [
        {
          "output_type": "execute_result",
          "data": {
            "text/plain": [
              "array([-10., -10., -10.])"
            ]
          },
          "metadata": {},
          "execution_count": 23
        }
      ]
    },
    {
      "cell_type": "code",
      "source": [
        "res.fun"
      ],
      "metadata": {
        "colab": {
          "base_uri": "https://localhost:8080/"
        },
        "id": "Ts5r0apsJbL0",
        "outputId": "f56cfd28-2e4c-43f6-a371-15c4ccaf3de1"
      },
      "execution_count": null,
      "outputs": [
        {
          "output_type": "execute_result",
          "data": {
            "text/plain": [
              "np.float64(-30.0)"
            ]
          },
          "metadata": {},
          "execution_count": 24
        }
      ]
    },
    {
      "cell_type": "code",
      "source": [],
      "metadata": {
        "id": "5r0OChsbJdaI"
      },
      "execution_count": null,
      "outputs": []
    }
  ]
}