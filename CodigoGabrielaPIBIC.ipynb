{
  "cells": [
    {
      "cell_type": "markdown",
      "metadata": {},
      "source": [
        "# Título Placeholder\n",
        "\n",
        "## Preparar ambiente"
      ]
    },
    {
      "cell_type": "code",
      "execution_count": 25,
      "metadata": {
        "id": "R_uWVNG3FL8m"
      },
      "outputs": [],
      "source": [
        "import numpy as np\n",
        "from scipy.optimize import minimize\n",
        "import matplotlib.pyplot as plt"
      ]
    },
    {
      "cell_type": "markdown",
      "metadata": {},
      "source": [
        "## Dados do Sistema e Constantes"
      ]
    },
    {
      "cell_type": "code",
      "execution_count": 26,
      "metadata": {},
      "outputs": [],
      "source": [
        "# Tempo em minutos, de acordo com seção 3.3.2. (FABRICAÇÃO DO PRODUTO)\n",
        "t_total = 60\n",
        "# Massa de água e mosto, em kg, baseado na seção 3.3.2. (FABRICAÇÃO DO PRODUTO)\n",
        "massa_agua = 25.5\n",
        "massa_malte = 8.5\n",
        "massa_mosto = massa_agua + massa_malte\n",
        "# Uma saca de malte de 25 kg tem aproximadamente 40 litros ocupados, uma proporção de 5/8, para 8,5 kg de malte, temos então 13.6 litros\n",
        "volume_malte = 13.6\n",
        "volume_mosto = massa_agua + volume_malte\n",
        "# Aproximado da capacidade térmica da água em KJ/(kg·K), baseado em https://www.fq.pt/tabelas/capacidades-termicas-massicas . O mosto é uma mistura, eu estou usando o calor específico da água como aproximação.\n",
        "c = 4.1855\n",
        "\n",
        "# Os dados relacinados à equação de Arrhenius forão testados entre 363.15 e 403.15 k (90 C° e 130 C°)\n",
        "# 293.15 k é equivalente a 20 C°, eu achei que seria um valor inicial adequado\n",
        "limites_temperatura = [(293.15, 403.15)]\n",
        "T_min, T_max = limites_temperatura[0]\n",
        "T0 = 293.15\n",
        "\n",
        "# Potêcia da fonte de calor em kw, de acordo com (3.3.1) ESTRUTURA DA PLANTA PILOTO)\n",
        "potencia = 6\n",
        "\n",
        "# UNUSED:\n",
        "# Constantes da equação de Antoine para a água de acordo com http://paginapessoal.utfpr.edu.br/lisandra/fisico-quimica-alimentos/anexos/C8-6_-_Pv_Antoine.pdf/view\n",
        "#ant_A = 18.3036\n",
        "#ant_B = 3816.44\n",
        "#ant_C = -46.13\n",
        "# A constante universal dos gases perfeitos, valor em J mol^-1 K^-1, de acordo com https://physics.nist.gov/cgi-bin/cuu/Value?r , CODATA\n",
        "#R = 8.31446261\n",
        "# Limites baseados nas restrições para a aplicação da Lei de Atoine de acordo com http://paginapessoal.utfpr.edu.br/lisandra/fisico-quimica-alimentos/anexos/C8-6_-_Pv_Antoine.pdf/view\n",
        "# 284 e 441 Em Kelvin\n",
        "# Massa molar da água de acordo com https://webbook.nist.gov/cgi/cbook.cgi?ID=C7732185&Mask=200\n",
        "# Por enquanto, estou usando a massa molar da água, por que o mosto é uma mistura e, nesse caso, é composto, em grande parte, feito de água, mas eu posso levar em conta outras substências, como açúcar\n",
        "#massa_molar = 18.0153"
      ]
    },
    {
      "cell_type": "markdown",
      "metadata": {},
      "source": [
        "# Funções Físico-Químicas"
      ]
    },
    {
      "cell_type": "code",
      "execution_count": 27,
      "metadata": {},
      "outputs": [],
      "source": [
        "def isomerizacao(T):\n",
        "    # \"Velocidade da isomerização\"\n",
        "    # A constante de Arrhenius para esse caso seria k = (7.9 × 10^11) e^(-11858/T), on T é a Temperatura Absoluta, baseado em https://doi.org/10.1021/jf0481296\n",
        "    return 7.9e11 * np.exp(-11858 / T)\n",
        "\n",
        "def calcular_iso_total(T, time_step):\n",
        "    # Só considerando temperaturas dentro dos limites dos daods no artigo https://doi.org/10.1021/jf0481296\n",
        "    T_min_iso, T_max_iso = 363.15, 403.15\n",
        "\n",
        "    idx_validos = (T >= T_min_iso) & (T <= T_max_iso)\n",
        "    T_iso = T[idx_validos]\n",
        "\n",
        "    if len(T_iso) == 0:\n",
        "        return 0\n",
        "\n",
        "    taxas = isomerizacao(T_iso)\n",
        "    return np.sum(taxas * time_step)\n",
        "\n",
        "def calcular_energia_fornecida():\n",
        "    # TODO: Pesquisar eficiência térmica de uma resistência elétrica submersa, por enquanto eu estou assumindo eficiência completa\n",
        "    # formula baseado em https://phys.libretexts.org/Bookshelves/University_Physics/University_Physics_(OpenStax)/University_Physics_II_-_Thermodynamics_Electricity_and_Magnetism_(OpenStax)/09%3A_Current_and_Resistance/9.06%3A_Electrical_Energy_and_Power\n",
        "    return potencia * t_total * 60\n",
        "\n",
        "def calcular_energia_usada(delta_T):\n",
        "    return float(np.sum(c * massa_mosto * delta_T))\n",
        "\n",
        "def calcular_massa_evaporada(delta_T):\n",
        "    energia_fornecida = calcular_energia_fornecida()\n",
        "    energia_usada = calcular_energia_usada(delta_T)\n",
        "    energia_restante = energia_fornecida - energia_usada\n",
        "    # TODO: implementar uma fórmula para entalpia específica de vaporização da água baseada em cada resgistro de temperatura\n",
        "    # a entalpia específica de vaporização da água varia com a temperatura, por enquanto eu estou o usando o valor para água a 100 C°, em kj/kg. Baseado em https://en.wikipedia.org/wiki/Enthalpy_of_vaporization\n",
        "    h = 2257\n",
        "    return energia_restante/h\n",
        "\n",
        "def calcular_energia_termica_total(T, T0, massa, capacidade_termica, T_min, T_max):\n",
        "    # As diferenças entre as temperaturas do vetor\n",
        "    delta_T = np.diff(T)\n",
        "    return np.sum(delta_T * massa * capacidade_termica), delta_T\n",
        "\n",
        "def calcular_densidade(massa_evaporada):\n",
        "    massa_restante = massa_mosto - massa_evaporada\n",
        "    volume_restante = volume_mosto - massa_evaporada\n",
        "    return massa_restante/volume_restante\n",
        "\n",
        "def calcular_penalizacao_densidade(densidade, faixa=(1000, 1025)):\n",
        "    # faixa baseada nesse documento da universidade de toronto https://www.physics.utoronto.ca/~poppitz/poppitz/PHY1530_files/BeerPhysics.pdf\n",
        "    min_d, max_d = faixa\n",
        "    if min_d <= densidade <= max_d:\n",
        "        return 0\n",
        "    else:\n",
        "        desvio = min(abs(densidade - min_d), abs(densidade - max_d))\n",
        "        return desvio / ((min_d + max_d) / 2)\n",
        "\n",
        "# UNUSED:\n",
        "#def pressao_vapor(T):\n",
        "#    T_celsius = T - 273.15\n",
        "#    # P, o valor sendo retornado, fica em mmHg\n",
        "#    return 10 ** (ant_A - ant_B / (ant_C + T_celsius))\n",
        "\n",
        "#def quantidade_materia():\n",
        "#    # formula baseada em https://chem.libretexts.org/Bookshelves/Introductory_Chemistry/Chemistry_for_Changing_Times_(Hill_and_McCreary)/05%3A_Chemical_Accounting/5.04%3A_Molar_Mass-_Mole-to-Mass_and_Mass-to-Mole_Conversions\n",
        "#    # usando massa da água por enquanto, já que eu estou usando a massa molar da água\n",
        "#    return massa_agua/massa_molar\n",
        "\n",
        "#def densidade_vapor(P,T):\n",
        "#    n = quantidade_materia()\n",
        "#    volume = (n*R*T)/P"
      ]
    },
    {
      "cell_type": "markdown",
      "metadata": {},
      "source": [
        "# Função Objetivo\n",
        "\n",
        "A entrada de temperatura (ou seja, os valores de T) precisa ter espaços de tempo equivalentes."
      ]
    },
    {
      "cell_type": "code",
      "execution_count": 28,
      "metadata": {
        "id": "_BPkOBD7GhEi"
      },
      "outputs": [],
      "source": [
        "\n",
        "def func_objetivo(T):\n",
        "\n",
        "    T = np.clip(T, T_min, T_max)\n",
        "    time_step = 60 / len(T)\n",
        "    \n",
        "    energia_total, delta_T = calcular_energia_termica_total(T, T0, massa_mosto, c, T_min, T_max)\n",
        "    \n",
        "    massa_evaporada = calcular_massa_evaporada(delta_T)\n",
        "\n",
        "    iso_total = calcular_iso_total(T, time_step)\n",
        "\n",
        "    densidade = calcular_densidade(massa_evaporada)\n",
        "\n",
        "    energia_norm = energia_total / 10000\n",
        "    iso_norm = iso_total / 1.0\n",
        "    evap_norm = massa_evaporada / massa_mosto\n",
        "    penalizacao_densidade = calcular_penalizacao_densidade(densidade)\n",
        "\n",
        "\n",
        "    # Pesos, de acordo com o objetivo (Minimizar energia e evaporação, maximizar isomerização e regular a densidade), seção 3.3.3.(CONTROLE ÓTIMO MULTIOBJETIVO UTILIZANDO ALGORITMO GENÉTICO)\n",
        "    w1, w2, w3, w4 = -1, -1, 1, 1\n",
        "\n",
        "    return (\n",
        "    w1 * energia_norm +\n",
        "    w3 * evap_norm +\n",
        "    w4 * penalizacao_densidade +\n",
        "    w2 * iso_norm\n",
        "    )\n"
      ]
    },
    {
      "cell_type": "code",
      "execution_count": null,
      "metadata": {},
      "outputs": [
        {
          "name": "stdout",
          "output_type": "stream",
          "text": [
            "Sucesso: True\n",
            "Mensagem: CONVERGENCE: NORM OF PROJECTED GRADIENT <= PGTOL\n",
            "Temperaturas ótimas: [293.15       295.01441763 296.87889484 298.74323119 300.60767627\n",
            " 302.4720276  304.33644068 306.20084748 308.06535146 309.92967187\n",
            " 311.79414907 313.65848543 315.52293051 317.38728184 319.25169492\n",
            " 321.11610172 322.9806057  324.84492611 326.70940331 328.57373967\n",
            " 330.43818474 332.30253608 334.16694915 336.03135595 337.89585994\n",
            " 339.76018035 341.62465755 343.48899391 345.35343898 347.21779032\n",
            " 349.08220339 350.94661019 352.81121029 354.67543458 356.53991179\n",
            " 358.40424814 360.26869322 362.13305087 403.15       403.15\n",
            " 403.15       403.15       403.15       403.15       403.15\n",
            " 403.15       403.15       403.15       403.15       403.15\n",
            " 403.15       403.15       403.15       403.15       403.15\n",
            " 403.15       403.15       403.15       403.15       403.15      ]\n",
            "Energia total: 15653.77\n",
            "Massa evaporada: 2.6345724412937526\n",
            "Isomerização total: 2.9240554991347723\n",
            "Densidade final: 0.8601415000060144\n"
          ]
        }
      ],
      "source": [
        "T_init = np.linspace(T_min, T_max, t_total)\n",
        "res = minimize(func_objetivo, T_init, bounds=[(T_min, T_max)] * t_total, method='L-BFGS-B')\n",
        "T_otimo = res.x\n",
        "time_step = 60 / len(T_otimo)\n",
        "energia_total, delta_T = calcular_energia_termica_total(T_otimo, T0, massa_mosto, c, T_min, T_max)\n",
        "massa_evaporada = calcular_massa_evaporada(delta_T)\n",
        "iso_total = calcular_iso_total(T_otimo, time_step)\n",
        "densidade = calcular_densidade(massa_evaporada)\n",
        "\n",
        "print(\"Sucesso:\", res.success)\n",
        "print(\"Mensagem:\", res.message)\n",
        "print(\"Energia total:\", energia_total)\n",
        "print(\"Massa evaporada:\", massa_evaporada)\n",
        "print(\"Isomerização total:\", iso_total)\n",
        "print(\"Densidade final:\", densidade)\n",
        "print(\"Temperaturas ótimas:\", res.x)\n"
      ]
    },
    {
      "cell_type": "code",
      "execution_count": 30,
      "metadata": {},
      "outputs": [
        {
          "data": {
            "image/png": "[encoded data removed]",
            "text/plain": [
              "<Figure size 640x480 with 1 Axes>"
            ]
          },
          "metadata": {},
          "output_type": "display_data"
        }
      ],
      "source": [
        "plt.plot(res.x)\n",
        "plt.title(\"Perfil ótimo de temperatura ao longo do tempo\")\n",
        "plt.xlabel(\"Minuto\")\n",
        "plt.ylabel(\"Temperatura (K)\")\n",
        "plt.grid(True)\n",
        "plt.show()"
      ]
    }
  ],
  "metadata": {
    "colab": {
      "provenance": []
    },
    "kernelspec": {
      "display_name": "Python 3",
      "name": "python3"
    },
    "language_info": {
      "codemirror_mode": {
        "name": "ipython",
        "version": 3
      },
      "file_extension": ".py",
      "mimetype": "text/x-python",
      "name": "python",
      "nbconvert_exporter": "python",
      "pygments_lexer": "ipython3",
      "version": "3.12.1"
    }
  },
  "nbformat": 4,
  "nbformat_minor": 0
}
