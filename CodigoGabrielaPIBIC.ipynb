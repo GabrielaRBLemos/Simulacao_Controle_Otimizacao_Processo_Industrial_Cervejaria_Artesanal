{
  "cells": [
    {
      "cell_type": "markdown",
      "metadata": {},
      "source": [
        "# Título Placeholder\n",
        "\n",
        "## Preparar ambiente"
      ]
    },
    {
      "cell_type": "code",
      "execution_count": null,
      "metadata": {
        "id": "R_uWVNG3FL8m"
      },
      "outputs": [],
      "source": [
        "import numpy as np\n",
        "from scipy.optimize import minimize\n",
        "import matplotlib.pyplot as plt"
      ]
    },
    {
      "cell_type": "markdown",
      "metadata": {},
      "source": [
        "## Dados do Sistema e Constantes"
      ]
    },
    {
      "cell_type": "code",
      "execution_count": null,
      "metadata": {},
      "outputs": [],
      "source": [
        "# Tempo em minutos, de acordo com seção 3.3.2. (FABRICAÇÃO DO PRODUTO)\n",
        "t_total = 60\n",
        "# Massa de água e mosto, em kg, baseado na seção 3.3.2. (FABRICAÇÃO DO PRODUTO)\n",
        "massa_agua = 25.5\n",
        "massa_malte = 8.5\n",
        "massa_mosto = massa_agua + massa_malte\n",
        "# Aproximado da capacidade térmica da água em KJ/(kg·K), baseado em https://www.fq.pt/tabelas/capacidades-termicas-massicas . O mosto é uma mistura, eu estou usando o calor específico da água como aproximação.\n",
        "c = 4.1855\n",
        "\"\"\" # Constantes da equação de Antoine para a água de acordo com http://paginapessoal.utfpr.edu.br/lisandra/fisico-quimica-alimentos/anexos/C8-6_-_Pv_Antoine.pdf/view\n",
        "ant_A = 18.3036\n",
        "ant_B = 3816.44\n",
        "ant_C = -46.13 \"\"\"\n",
        "\n",
        "\"\"\" # A constante universal dos gases perfeitos, valor em J mol^-1 K^-1, de acordo com https://physics.nist.gov/cgi-bin/cuu/Value?r , CODATA\n",
        "R = 8.31446261 \"\"\"\n",
        "\n",
        "# Limites baseados nas restrições para a aplicação da Lei de Atoine de acordo com http://paginapessoal.utfpr.edu.br/lisandra/fisico-quimica-alimentos/anexos/C8-6_-_Pv_Antoine.pdf/view\n",
        "# 284 e 441 Em Kelvin\n",
        "# Limites reavaliados já que os dados relacinados à equação de Arrhenius forão testados entre 363.15 e 403.15 k (90 C° e 130 C°)\n",
        "limites_temperatura = [(363.15, 441)]\n",
        "T_min, T_max = limites_temperatura[0]\n",
        "\n",
        "# 293.15 k é equivalente a 20 C°, eu achei que seria um valor inicial adequado\n",
        "T0 = 293.15\n",
        "\n",
        "\"\"\" # Massa molar da água de acordo com https://webbook.nist.gov/cgi/cbook.cgi?ID=C7732185&Mask=200\n",
        "# Por enquanto, estou usando a massa molar da água, por que o mosto é uma mistura e, nesse caso, é composto, em grande parte, feito de água, mas eu posso levar em conta outras substências, como açúcar\n",
        "massa_molar = 18.0153 \"\"\"\n",
        "\n",
        "# Potêcia da fonte de calor em kw, de acordo com (3.3.1) ESTRUTURA DA PLANTA PILOTO)\n",
        "potencia = 6\n"
      ]
    },
    {
      "cell_type": "markdown",
      "metadata": {},
      "source": [
        "# Funções Físico-Químicas"
      ]
    },
    {
      "cell_type": "code",
      "execution_count": null,
      "metadata": {},
      "outputs": [],
      "source": [
        "def isomerizacao(T):\n",
        "    # \"Velocidade da isomerização\"\n",
        "    # A constante de Arrhenius para esse caso seria k = (7.9 × 10^11) e^(-11858/T), on T é a Temperatura Absoluta, baseado em https://doi.org/10.1021/jf0481296\n",
        "    return 7.9e11 * np.exp(-11858 / T)\n",
        "\n",
        "\"\"\" def pressao_vapor(T):\n",
        "    T_celsius = T - 273.15\n",
        "    # P, o valor sendo retornado, fica em mmHg\n",
        "    return 10 ** (ant_A - ant_B / (ant_C + T_celsius))\n",
        "\n",
        "def quantidade_materia():\n",
        "    # formula baseada em https://chem.libretexts.org/Bookshelves/Introductory_Chemistry/Chemistry_for_Changing_Times_(Hill_and_McCreary)/05%3A_Chemical_Accounting/5.04%3A_Molar_Mass-_Mole-to-Mass_and_Mass-to-Mole_Conversions\n",
        "    # usando massa da água por enquanto, já que eu estou usando a massa molar da água\n",
        "    return massa_agua/massa_molar\n",
        "\n",
        "def densidade_vapor(P,T):\n",
        "    n = quantidade_materia()\n",
        "    volume = (n*R*T)/P \"\"\"\n",
        "\n",
        "def energia_fornecida():\n",
        "    # TODO: Pesquisar eficiência térmica de uma resistência elétrica submersa, por enquanto eu estou assumindo eficiência completa\n",
        "    # formula baseado em https://phys.libretexts.org/Bookshelves/University_Physics/University_Physics_(OpenStax)/University_Physics_II_-_Thermodynamics_Electricity_and_Magnetism_(OpenStax)/09%3A_Current_and_Resistance/9.06%3A_Electrical_Energy_and_Power\n",
        "    return potencia * t_total * 60\n",
        "\n",
        "def energia_usada(delta_T):\n",
        "    c * massa_mosto * delta_T\n",
        "\n",
        "def massa_evaporada(delta_T):\n",
        "    energia_fornecida = energia_fornecida()\n",
        "    energia_usada = energia_usada(delta_T)\n",
        "    energia_restante = energia_fornecida - energia_usada\n",
        "    # TODO: implementar uma fórmula para entalpia específica de vaporização da água baseada na temperatura\n",
        "    # a entalpia específica de vaporização da água varia com a temperatura, por enquanto eu estou o usando o valor para água a 100 C°, em kj/kg. Baseado em https://en.wikipedia.org/wiki/Enthalpy_of_vaporization\n",
        "    h = 2257\n",
        "    return energia_restante/h\n",
        "\n",
        "def energia_termica_total(T, T0, massa, capacidade_termica, T_min, T_max):\n",
        "    \n",
        "    T = np.clip(T, T_min, T_max)\n",
        "    T = np.insert(T, 0, T0)\n",
        "    # As diferenças entre as temperaturas do vetor\n",
        "    delta_T = np.diff(T)\n",
        "    return np.sum(delta_T * massa * capacidade_termica), delta_T"
      ]
    },
    {
      "cell_type": "markdown",
      "metadata": {},
      "source": [
        "# Função Objetivo\n",
        "\n",
        "A entrada de temperatura (ou seja, os valores de T) precisa ter espaços de tempo equivalentes."
      ]
    },
    {
      "cell_type": "code",
      "execution_count": null,
      "metadata": {
        "id": "_BPkOBD7GhEi"
      },
      "outputs": [],
      "source": [
        "\n",
        "def func_objetivo(q):\n",
        "\n",
        "    \n",
        "    energia_total, delta_T = energia_termica_total(T, T0, massa_mosto, c, T_min, T_max)\n",
        "    \n",
        "    massa_evaporada = massa_evaporada(delta_T)\n",
        "\n",
        "    # Pesos, de acordo com o objetivo (Minimizar energia e evaporação, maximizar isomerização e regular a densidade), seção 3.3.3.(CONTROLE ÓTIMO MULTIOBJETIVO UTILIZANDO ALGORITMO GENÉTICO)\n",
        "    w1, w2, w3, w4 = 1, -1, 1, -1\n",
        "\n",
        "    return (\n",
        "        w1 * energia_total +\n",
        "        w2 * iso_total +\n",
        "        w3 * massa_evaporada +\n",
        "        w4 * densidade\n",
        "    )"
      ]
    },
    {
      "cell_type": "code",
      "execution_count": null,
      "metadata": {},
      "outputs": [],
      "source": [
        "res = minimize(funcao_objetivo, calor_inicial, bounds=limites_calor)\n",
        "print(\"Resultado da otimização:\")\n",
        "print(\"Calor aplicado:\", res.x[0])\n",
        "print(\"Valor da função objetivo:\", res.fun)"
      ]
    },
    {
      "cell_type": "code",
      "execution_count": null,
      "metadata": {},
      "outputs": [],
      "source": [
        "plt.bar(['Calor Aplicado'], [res.x[0]], color='blue')\n",
        "plt.ylabel('Valor Otimizado')\n",
        "plt.title('Resultado da Otimização do Calor Aplicado')\n",
        "plt.show()"
      ]
    }
  ],
  "metadata": {
    "colab": {
      "provenance": []
    },
    "kernelspec": {
      "display_name": "Python 3",
      "name": "python3"
    },
    "language_info": {
      "codemirror_mode": {
        "name": "ipython",
        "version": 3
      },
      "file_extension": ".py",
      "mimetype": "text/x-python",
      "name": "python",
      "nbconvert_exporter": "python",
      "pygments_lexer": "ipython3",
      "version": "3.12.1"
    }
  },
  "nbformat": 4,
  "nbformat_minor": 0
}
