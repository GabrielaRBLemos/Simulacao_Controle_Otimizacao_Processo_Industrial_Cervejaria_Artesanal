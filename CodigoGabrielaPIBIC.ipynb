{
  "cells": [
    {
      "cell_type": "markdown",
      "metadata": {},
      "source": [
        "# Título Placeholder\n",
        "\n",
        "## Preparar ambiente"
      ]
    },
    {
      "cell_type": "code",
      "execution_count": 2,
      "metadata": {
        "id": "R_uWVNG3FL8m"
      },
      "outputs": [],
      "source": [
        "import numpy as np\n",
        "from scipy.optimize import minimize\n",
        "import matplotlib.pyplot as plt"
      ]
    },
    {
      "cell_type": "markdown",
      "metadata": {},
      "source": [
        "## Dados do Sistema e Constantes"
      ]
    },
    {
      "cell_type": "code",
      "execution_count": 3,
      "metadata": {},
      "outputs": [],
      "source": [
        "# Tempo em minutos, de acordo com seção 3.3.2. (FABRICAÇÃO DO PRODUTO)\n",
        "t_total = 60\n",
        "# Massa de água e mosto, em kg, baseado na seção 3.3.2. (FABRICAÇÃO DO PRODUTO)\n",
        "massa_agua = 25.5\n",
        "massa_malte = 8.5\n",
        "massa_mosto = massa_agua + massa_malte\n",
        "# Aproximado da capacidade térmica da água em KJ/(kg·K), baseado em https://www.fq.pt/tabelas/capacidades-termicas-massicas\n",
        "c = 4.1855\n",
        "# Constantes da equação de Antoine para a água de acordo com http://paginapessoal.utfpr.edu.br/lisandra/fisico-quimica-alimentos/anexos/C8-6_-_Pv_Antoine.pdf/view\n",
        "ant_A = 18.3036\n",
        "ant_B = 3816.44\n",
        "ant_C = -46.13\n",
        "\n",
        "# Limites baseados nas restrições para a aplicação da Lei de Atoine de acordo com http://paginapessoal.utfpr.edu.br/lisandra/fisico-quimica-alimentos/anexos/C8-6_-_Pv_Antoine.pdf/view\n",
        "# Em Kelvin\n",
        "# TODO: reavaliar esses limites, os dados relacinados à equação de Arrhenius forão testados entre 363.15 e 403.15 k\n",
        "limites_temperatura = [(284, 441)]\n",
        "T_min, T_max = limites_temperatura[0]\n",
        "# 293.15 k é equivalente a 20 C°, eu achei que seria um valor inicial adequado\n",
        "T0 = 293.15"
      ]
    },
    {
      "cell_type": "markdown",
      "metadata": {},
      "source": [
        "# Funções Físico-Químicas"
      ]
    },
    {
      "cell_type": "code",
      "execution_count": 4,
      "metadata": {},
      "outputs": [],
      "source": [
        "def isomerizacao(T):\n",
        "    # \"Velocidade da isomerização\"\n",
        "    # A constante de Arrhenius para esse caso seria k = (7.9 × 10^11) e^(-11858/T), on T é a Temperatura Absoluta, baseado em https://doi.org/10.1021/jf0481296\n",
        "    return 7.9e11 * np.exp(-11858 / T)\n",
        "\n",
        "def pressao_vapor(T):\n",
        "    T_celsius = T - 273.15\n",
        "    return 10 ** (ant_A - ant_B / (ant_C + T_celsius))"
      ]
    },
    {
      "cell_type": "markdown",
      "metadata": {},
      "source": [
        "# Função Objetivo"
      ]
    },
    {
      "cell_type": "code",
      "execution_count": 5,
      "metadata": {},
      "outputs": [],
      "source": [
        "def energia_total_entrada(q_entrada):\n",
        "    return np.sum(q_entrada)\n",
        "\n",
        "def iso_total():\n",
        "    return 0.0\n",
        "\n",
        "def massa_evaporada():\n",
        "    return 0.0\n",
        "\n",
        "def densidade():\n",
        "    return 0.0"
      ]
    },
    {
      "cell_type": "code",
      "execution_count": 6,
      "metadata": {
        "id": "_BPkOBD7GhEi"
      },
      "outputs": [],
      "source": [
        "\n",
        "def func_objetivo(q_entrada):\n",
        "\n",
        "    # TODO\n",
        "    \n",
        "    # Pesos, de acordo com o objetivo (Minimizar energia e evaporação, maximizar isomerização e regular a densidade), seção 3.3.3.(CONTROLE ÓTIMO MULTIOBJETIVO UTILIZANDO ALGORITMO GENÉTICO)\n",
        "    w1, w2, w3, w4 = 1, -1, 1, -1\n",
        "\n",
        "    return (\n",
        "        w1 * energia_total_entrada(q_entrada) +\n",
        "        w2 * iso_total() +\n",
        "        w3 * massa_evaporada() +\n",
        "        w4 * densidade()\n",
        "    )"
      ]
    },
    {
      "cell_type": "markdown",
      "metadata": {},
      "source": [
        "# Otimização"
      ]
    },
    {
      "cell_type": "code",
      "execution_count": 13,
      "metadata": {},
      "outputs": [],
      "source": [
        "# vetor de tempo\n",
        "t_array = np.linspace(0, t_total, 100)\n",
        "N = t_array.shape[0]\n",
        "\n",
        "# chute inicial para a otimização\n",
        "q_entrada_inicial = np.array([1.0] * N)  #\n",
        "\n",
        "# bounds para q_entrada\n",
        "bounds = [(10.0, 100.0)] * N  "
      ]
    },
    {
      "cell_type": "code",
      "execution_count": 14,
      "metadata": {},
      "outputs": [
        {
          "name": "stdout",
          "output_type": "stream",
          "text": [
            "Resultado da otimização:\n",
            "Calor aplicado: 10.0\n",
            "Valor da função objetivo: 1000.0\n"
          ]
        }
      ],
      "source": [
        "res = minimize(func_objetivo, q_entrada_inicial, bounds=bounds)\n",
        "print(\"Resultado da otimização:\")\n",
        "print(\"Calor aplicado:\", res.x[0])\n",
        "print(\"Valor da função objetivo:\", res.fun)"
      ]
    },
    {
      "cell_type": "code",
      "execution_count": 15,
      "metadata": {},
      "outputs": [
        {
          "data": {
            "image/png": "[encoded data removed]",
            "text/plain": [
              "<Figure size 640x480 with 1 Axes>"
            ]
          },
          "metadata": {},
          "output_type": "display_data"
        }
      ],
      "source": [
        "plt.plot(t_array, res.x, color='blue')\n",
        "plt.ylabel('Valor Otimizado')\n",
        "plt.title('Resultado da Otimização do Calor Aplicado')\n",
        "plt.show()"
      ]
    },
    {
      "cell_type": "code",
      "execution_count": null,
      "metadata": {},
      "outputs": [],
      "source": []
    }
  ],
  "metadata": {
    "colab": {
      "provenance": []
    },
    "kernelspec": {
      "display_name": "Python 3",
      "name": "python3"
    },
    "language_info": {
      "codemirror_mode": {
        "name": "ipython",
        "version": 3
      },
      "file_extension": ".py",
      "mimetype": "text/x-python",
      "name": "python",
      "nbconvert_exporter": "python",
      "pygments_lexer": "ipython3",
      "version": "3.12.4"
    }
  },
  "nbformat": 4,
  "nbformat_minor": 0
}
